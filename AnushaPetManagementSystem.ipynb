{
 "cells": [
  {
   "cell_type": "code",
   "execution_count": 5,
   "id": "e273975a-eb67-48f4-96e2-0b14ef4d3049",
   "metadata": {},
   "outputs": [
    {
     "data": {
      "text/plain": [
       "'Buddy the Dog: Hunger - 40, Happiness - 60, Energy - 50'"
      ]
     },
     "execution_count": 5,
     "metadata": {},
     "output_type": "execute_result"
    }
   ],
   "source": [
    "class Pet:\n",
    "    def __init__(self, name, species):\n",
    "        self.name = name\n",
    "        self.species = species\n",
    "        self.__hunger = 50\n",
    "        self.__happiness = 50\n",
    "        self.__energy = 50\n",
    "\n",
    "    def feed(self):\n",
    "        self.__hunger -= 10\n",
    "        if self.__hunger < 0:\n",
    "            self.__hunger = 0\n",
    "\n",
    "    def play(self):\n",
    "        self.__happiness += 10\n",
    "        self.__energy -= 10\n",
    "        if self.__happiness > 100:\n",
    "            self.__happiness = 100\n",
    "        if self.__energy < 0:\n",
    "            self.__energy = 0\n",
    "\n",
    "    def sleep(self):\n",
    "        self.__energy += 10\n",
    "        if self.__energy > 100:\n",
    "            self.__energy = 100\n",
    "\n",
    "    def get_status(self):\n",
    "        a = self.name + \" the \" + self.species + \": Hunger - \" + str(self.__hunger) +  \", Happiness - \" + str(self.__happiness) + \", Energy - \" + str(self.__energy)\n",
    "        return a\n",
    "\n",
    "\n",
    "class Dog(Pet):\n",
    "    def __init__(self, name):\n",
    "        super().__init__(name, \"Dog\")\n",
    "\n",
    "class Cat(Pet):\n",
    "    def __init__(self, name):\n",
    "        super().__init__(name, \"Cat\")\n",
    "\n",
    "\n",
    "dog = Dog(\"Buddy\")\n",
    "dog.get_status()\n",
    "dog.feed()\n",
    "dog.get_status()\n",
    "dog.sleep()\n",
    "dog.get_status()\n",
    "dog.play()\n",
    "dog.get_status()"
   ]
  },
  {
   "cell_type": "code",
   "execution_count": null,
   "id": "df5bafda-4bb8-43d6-8f01-9a36605b59a9",
   "metadata": {},
   "outputs": [],
   "source": []
  }
 ],
 "metadata": {
  "kernelspec": {
   "display_name": "Python 3 (ipykernel)",
   "language": "python",
   "name": "python3"
  },
  "language_info": {
   "codemirror_mode": {
    "name": "ipython",
    "version": 3
   },
   "file_extension": ".py",
   "mimetype": "text/x-python",
   "name": "python",
   "nbconvert_exporter": "python",
   "pygments_lexer": "ipython3",
   "version": "3.11.7"
  }
 },
 "nbformat": 4,
 "nbformat_minor": 5
}
